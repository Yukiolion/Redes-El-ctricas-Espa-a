{
 "cells": [
  {
   "cell_type": "markdown",
   "id": "514c7348",
   "metadata": {},
   "source": [
    "## Parte 1 ● Ejecutar los scripts con una muestra relativamente pequeña de cada uno de losendpoints y verificar que todo funcione correctamente.\n",
    "\n",
    "○ Demanda \n",
    "\n",
    "○ Balance\n",
    "\n",
    "https://www.ree.es/es/datos/apidatos\n",
    "\n",
    "\n"
   ]
  },
  {
   "cell_type": "code",
   "execution_count": 3,
   "id": "3ec19b1e-14bc-49fc-86ea-8941c01be7f7",
   "metadata": {
    "tags": []
   },
   "outputs": [
    {
     "name": "stdout",
     "output_type": "stream",
     "text": [
      "numpy==2.1.3\n",
      "pandas==2.2.3\n",
      "requests==2.32.3\n"
     ]
    }
   ],
   "source": [
    "# Versiones\n",
    "\n",
    "print(f\"numpy=={np.__version__}\")\n",
    "print(f\"pandas=={pd.__version__}\")\n",
    "print(f\"requests=={requests.__version__}\")"
   ]
  },
  {
   "cell_type": "code",
   "execution_count": 6,
   "id": "21626019",
   "metadata": {},
   "outputs": [
    {
     "name": "stdout",
     "output_type": "stream",
     "text": [
      "Datos guardados en balance_electrico_dia_2023_todas_regiones.csv\n"
     ]
    }
   ],
   "source": [
    "import requests\n",
    "import pandas as pd\n",
    "\n",
    "# Constantes comunes\n",
    "URL = \"https://apidatos.ree.es/es/datos/balance/balance-electrico\"\n",
    "HEADERS = {\n",
    "    \"Accept\": \"application/json\",\n",
    "    \"Content-Type\": \"application/json\",\n",
    "    \"Host\": \"apidatos.ree.es\",\n",
    "    \"User-Agent\": \"Mozilla/5.0\"\n",
    "}\n",
    "\n",
    "# Fechas y truncamiento\n",
    "START_DATE = \"2023-01-01T00:00\"\n",
    "END_DATE = \"2023-12-31T23:59\"\n",
    "TIME_TRUNC = \"day\"\n",
    "\n",
    "# Diccionario de geo_ids y nombres de regiones\n",
    "region_ids = {\n",
    "    \"8741\": \"peninsular\",\n",
    "    \"8742\": \"canarias\",\n",
    "    \"8743\": \"baleares\",\n",
    "    \"8744\": \"ceuta\",\n",
    "    \"8745\": \"melilla\",\n",
    "    \"4\": \"andalucia\",\n",
    "    \"5\": \"aragon\",\n",
    "    \"6\": \"cantabria\",\n",
    "    \"7\": \"castilla la mancha\",\n",
    "    \"8\": \"castilla y leon\",\n",
    "    \"9\": \"cataluña\",\n",
    "    \"10\": \"pais vasco\",\n",
    "    \"11\": \"principado de asturias\",\n",
    "    \"13\": \"comunidad de madrid\",\n",
    "    \"14\": \"comunidad de navarra\",\n",
    "    \"15\": \"comunidad de valenciana\",\n",
    "    \"16\": \"extremadura\",\n",
    "    \"17\": \"galicia\",\n",
    "    \"20\": \"la rioja\",\n",
    "    \"21\": \"region de murcia\"\n",
    "}\n",
    "\n",
    "# DataFrame final\n",
    "df_total = pd.DataFrame()\n",
    "\n",
    "# Loop para hacer las consultas\n",
    "for geo_id, region_name in region_ids.items():\n",
    "    params = {\n",
    "        \"start_date\": START_DATE,\n",
    "        \"end_date\": END_DATE,\n",
    "        \"time_trunc\": TIME_TRUNC,\n",
    "        \"geo_id\": geo_id\n",
    "    }\n",
    "\n",
    "    response = requests.get(URL, headers=HEADERS, params=params)\n",
    "    data = response.json()\n",
    "    included = data.get('included', [])\n",
    "\n",
    "    registros = []\n",
    "\n",
    "    for grupo in included:\n",
    "        group_name = grupo['attributes']['title']\n",
    "        contenidos = grupo['attributes'].get('content', [])\n",
    "\n",
    "        for item in contenidos:\n",
    "            indicador = item['attributes']['title']\n",
    "            valores = item['attributes'].get('values', [])\n",
    "\n",
    "            for punto in valores:\n",
    "                registros.append({\n",
    "                    'fecha': punto['datetime'],\n",
    "                    'valor': punto['value'],\n",
    "                    'tipo': indicador,\n",
    "                    'energia': group_name,\n",
    "                    'region': region_name\n",
    "                })\n",
    "\n",
    "    df = pd.DataFrame(registros)\n",
    "    df_total = pd.concat([df_total, df], ignore_index=True)\n",
    "\n",
    "# Guardar en un único archivo CSV\n",
    "df_total.to_csv(\"balance_electrico_dia_2023_todas_regiones.csv\", index=False)\n",
    "print(\"Datos guardados en balance_electrico_dia_2023_todas_regiones.csv\")\n"
   ]
  },
  {
   "cell_type": "code",
   "execution_count": 263,
   "id": "1765acc7",
   "metadata": {},
   "outputs": [],
   "source": [
    "################################################################################################################################"
   ]
  }
 ],
 "metadata": {
  "kernelspec": {
   "display_name": "Python 3",
   "language": "python",
   "name": "python3"
  },
  "language_info": {
   "codemirror_mode": {
    "name": "ipython",
    "version": 3
   },
   "file_extension": ".py",
   "mimetype": "text/x-python",
   "name": "python",
   "nbconvert_exporter": "python",
   "pygments_lexer": "ipython3",
   "version": "3.12.9"
  }
 },
 "nbformat": 4,
 "nbformat_minor": 5
}
