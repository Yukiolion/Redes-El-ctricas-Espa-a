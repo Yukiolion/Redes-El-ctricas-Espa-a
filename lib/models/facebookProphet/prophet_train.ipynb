{
 "cells": [
  {
   "cell_type": "markdown",
   "id": "e9ff63d1",
   "metadata": {},
   "source": [
    "AQUI IMPLEMENTAREMOS Y ENTRENAREMOS EL MODELO DE FACEBOOK PROPHET"
   ]
  },
  {
   "cell_type": "code",
   "execution_count": null,
   "id": "48d6f224",
   "metadata": {
    "vscode": {
     "languageId": "plaintext"
    }
   },
   "outputs": [],
   "source": []
  }
 ],
 "metadata": {
  "language_info": {
   "name": "python"
  }
 },
 "nbformat": 4,
 "nbformat_minor": 5
}
