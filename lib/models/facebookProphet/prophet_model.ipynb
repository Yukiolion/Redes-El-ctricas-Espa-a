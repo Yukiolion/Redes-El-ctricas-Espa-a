{
 "cells": [
  {
   "cell_type": "markdown",
   "id": "7faeb5f8",
   "metadata": {},
   "source": [
    "AQUI SE HARAN PREDICCIONES CON EL MODELO DE PROPHET ENTRENADO"
   ]
  },
  {
   "cell_type": "code",
   "execution_count": null,
   "id": "4499ad7d",
   "metadata": {
    "vscode": {
     "languageId": "plaintext"
    }
   },
   "outputs": [],
   "source": []
  }
 ],
 "metadata": {
  "language_info": {
   "name": "python"
  }
 },
 "nbformat": 4,
 "nbformat_minor": 5
}
