{
 "cells": [
  {
   "cell_type": "code",
   "execution_count": 9,
   "id": "caf6b104-5e3f-4305-ab19-c68014e273b1",
   "metadata": {},
   "outputs": [],
   "source": [
    "import pandas as pd\n",
    "import numpy as np\n",
    "import os\n",
    "\n",
    "import matplotlib.pyplot as plt\n",
    "import seaborn as sns\n",
    "import plotly.express as px\n",
    "import plotly.graph_objects as go"
   ]
  },
  {
   "cell_type": "code",
   "execution_count": 11,
   "id": "bcab8d82-8042-42c4-980d-2e14a82dab03",
   "metadata": {},
   "outputs": [],
   "source": [
    "# CARPETA BALANCE\n",
    "df = pd.read_csv('balance-electrico.csv')"
   ]
  },
  {
   "cell_type": "code",
   "execution_count": 19,
   "id": "af1dc7f0-b2a5-4788-9ee4-970b86c18552",
   "metadata": {},
   "outputs": [
    {
     "name": "stdout",
     "output_type": "stream",
     "text": [
      "<class 'pandas.core.frame.DataFrame'>\n",
      "RangeIndex: 992860 entries, 0 to 992859\n",
      "Data columns (total 5 columns):\n",
      " #   Column   Non-Null Count   Dtype  \n",
      "---  ------   --------------   -----  \n",
      " 0   fecha    992860 non-null  object \n",
      " 1   valor    992860 non-null  float64\n",
      " 2   tipo     992860 non-null  object \n",
      " 3   energia  992860 non-null  object \n",
      " 4   region   992860 non-null  object \n",
      "dtypes: float64(1), object(4)\n",
      "memory usage: 37.9+ MB\n"
     ]
    },
    {
     "data": {
      "text/html": [
       "<div>\n",
       "<style scoped>\n",
       "    .dataframe tbody tr th:only-of-type {\n",
       "        vertical-align: middle;\n",
       "    }\n",
       "\n",
       "    .dataframe tbody tr th {\n",
       "        vertical-align: top;\n",
       "    }\n",
       "\n",
       "    .dataframe thead th {\n",
       "        text-align: right;\n",
       "    }\n",
       "</style>\n",
       "<table border=\"1\" class=\"dataframe\">\n",
       "  <thead>\n",
       "    <tr style=\"text-align: right;\">\n",
       "      <th></th>\n",
       "      <th>fecha</th>\n",
       "      <th>valor</th>\n",
       "      <th>tipo</th>\n",
       "      <th>energia</th>\n",
       "      <th>region</th>\n",
       "    </tr>\n",
       "  </thead>\n",
       "  <tbody>\n",
       "    <tr>\n",
       "      <th>0</th>\n",
       "      <td>2019-01-01T00:00:00.000+01:00</td>\n",
       "      <td>53722.120</td>\n",
       "      <td>Hidráulica</td>\n",
       "      <td>Renovable</td>\n",
       "      <td>peninsular</td>\n",
       "    </tr>\n",
       "    <tr>\n",
       "      <th>1</th>\n",
       "      <td>2019-01-02T00:00:00.000+01:00</td>\n",
       "      <td>61294.768</td>\n",
       "      <td>Hidráulica</td>\n",
       "      <td>Renovable</td>\n",
       "      <td>peninsular</td>\n",
       "    </tr>\n",
       "    <tr>\n",
       "      <th>2</th>\n",
       "      <td>2019-01-03T00:00:00.000+01:00</td>\n",
       "      <td>82981.951</td>\n",
       "      <td>Hidráulica</td>\n",
       "      <td>Renovable</td>\n",
       "      <td>peninsular</td>\n",
       "    </tr>\n",
       "    <tr>\n",
       "      <th>3</th>\n",
       "      <td>2019-01-04T00:00:00.000+01:00</td>\n",
       "      <td>94301.940</td>\n",
       "      <td>Hidráulica</td>\n",
       "      <td>Renovable</td>\n",
       "      <td>peninsular</td>\n",
       "    </tr>\n",
       "    <tr>\n",
       "      <th>4</th>\n",
       "      <td>2019-01-05T00:00:00.000+01:00</td>\n",
       "      <td>58822.692</td>\n",
       "      <td>Hidráulica</td>\n",
       "      <td>Renovable</td>\n",
       "      <td>peninsular</td>\n",
       "    </tr>\n",
       "    <tr>\n",
       "      <th>...</th>\n",
       "      <td>...</td>\n",
       "      <td>...</td>\n",
       "      <td>...</td>\n",
       "      <td>...</td>\n",
       "      <td>...</td>\n",
       "    </tr>\n",
       "    <tr>\n",
       "      <th>992855</th>\n",
       "      <td>2024-12-27T00:00:00.000+01:00</td>\n",
       "      <td>675212.456</td>\n",
       "      <td>Demanda en b.c.</td>\n",
       "      <td>Demanda</td>\n",
       "      <td>region de murcia</td>\n",
       "    </tr>\n",
       "    <tr>\n",
       "      <th>992856</th>\n",
       "      <td>2024-12-28T00:00:00.000+01:00</td>\n",
       "      <td>641243.762</td>\n",
       "      <td>Demanda en b.c.</td>\n",
       "      <td>Demanda</td>\n",
       "      <td>region de murcia</td>\n",
       "    </tr>\n",
       "    <tr>\n",
       "      <th>992857</th>\n",
       "      <td>2024-12-29T00:00:00.000+01:00</td>\n",
       "      <td>618610.074</td>\n",
       "      <td>Demanda en b.c.</td>\n",
       "      <td>Demanda</td>\n",
       "      <td>region de murcia</td>\n",
       "    </tr>\n",
       "    <tr>\n",
       "      <th>992858</th>\n",
       "      <td>2024-12-30T00:00:00.000+01:00</td>\n",
       "      <td>690745.398</td>\n",
       "      <td>Demanda en b.c.</td>\n",
       "      <td>Demanda</td>\n",
       "      <td>region de murcia</td>\n",
       "    </tr>\n",
       "    <tr>\n",
       "      <th>992859</th>\n",
       "      <td>2024-12-31T00:00:00.000+01:00</td>\n",
       "      <td>665712.737</td>\n",
       "      <td>Demanda en b.c.</td>\n",
       "      <td>Demanda</td>\n",
       "      <td>region de murcia</td>\n",
       "    </tr>\n",
       "  </tbody>\n",
       "</table>\n",
       "<p>992860 rows × 5 columns</p>\n",
       "</div>"
      ],
      "text/plain": [
       "                                fecha       valor             tipo    energia  \\\n",
       "0       2019-01-01T00:00:00.000+01:00   53722.120       Hidráulica  Renovable   \n",
       "1       2019-01-02T00:00:00.000+01:00   61294.768       Hidráulica  Renovable   \n",
       "2       2019-01-03T00:00:00.000+01:00   82981.951       Hidráulica  Renovable   \n",
       "3       2019-01-04T00:00:00.000+01:00   94301.940       Hidráulica  Renovable   \n",
       "4       2019-01-05T00:00:00.000+01:00   58822.692       Hidráulica  Renovable   \n",
       "...                               ...         ...              ...        ...   \n",
       "992855  2024-12-27T00:00:00.000+01:00  675212.456  Demanda en b.c.    Demanda   \n",
       "992856  2024-12-28T00:00:00.000+01:00  641243.762  Demanda en b.c.    Demanda   \n",
       "992857  2024-12-29T00:00:00.000+01:00  618610.074  Demanda en b.c.    Demanda   \n",
       "992858  2024-12-30T00:00:00.000+01:00  690745.398  Demanda en b.c.    Demanda   \n",
       "992859  2024-12-31T00:00:00.000+01:00  665712.737  Demanda en b.c.    Demanda   \n",
       "\n",
       "                  region  \n",
       "0             peninsular  \n",
       "1             peninsular  \n",
       "2             peninsular  \n",
       "3             peninsular  \n",
       "4             peninsular  \n",
       "...                  ...  \n",
       "992855  region de murcia  \n",
       "992856  region de murcia  \n",
       "992857  region de murcia  \n",
       "992858  region de murcia  \n",
       "992859  region de murcia  \n",
       "\n",
       "[992860 rows x 5 columns]"
      ]
     },
     "execution_count": 19,
     "metadata": {},
     "output_type": "execute_result"
    }
   ],
   "source": [
    "df.info()\n",
    "df"
   ]
  },
  {
   "cell_type": "code",
   "execution_count": 22,
   "id": "20fbb7e4-de3f-4d2f-b25a-c962898a4ccd",
   "metadata": {},
   "outputs": [],
   "source": [
    "# Cambiamos el formato de fecha y en valor, trabajamos con MWh ya que se ven mejor\n",
    "\n",
    "df['fecha'] = pd.to_datetime(df['fecha'].str.split('T').str[0])\n",
    "df['valor'] = df['valor']/1e3\n"
   ]
  },
  {
   "cell_type": "code",
   "execution_count": 24,
   "id": "2f64e56f-73b5-42e1-a400-5736e6989d59",
   "metadata": {},
   "outputs": [
    {
     "name": "stdout",
     "output_type": "stream",
     "text": [
      "<class 'pandas.core.frame.DataFrame'>\n",
      "RangeIndex: 992860 entries, 0 to 992859\n",
      "Data columns (total 5 columns):\n",
      " #   Column   Non-Null Count   Dtype         \n",
      "---  ------   --------------   -----         \n",
      " 0   fecha    992860 non-null  datetime64[ns]\n",
      " 1   valor    992860 non-null  float64       \n",
      " 2   tipo     992860 non-null  object        \n",
      " 3   energia  992860 non-null  object        \n",
      " 4   region   992860 non-null  object        \n",
      "dtypes: datetime64[ns](1), float64(1), object(3)\n",
      "memory usage: 37.9+ MB\n"
     ]
    }
   ],
   "source": [
    "df.info()"
   ]
  },
  {
   "cell_type": "code",
   "execution_count": 26,
   "id": "4b00432b-ee3e-49d3-8021-1c66ccbd79da",
   "metadata": {},
   "outputs": [
    {
     "data": {
      "text/plain": [
       "array(['Hidráulica', 'Eólica', 'Solar fotovoltaica', 'Solar térmica',\n",
       "       'Hidroeólica', 'Otras renovables', 'Residuos renovables',\n",
       "       'Generación renovable', 'Nuclear', 'Ciclo combinado', 'Carbón',\n",
       "       'Motores diésel', 'Turbina de gas', 'Turbina de vapor',\n",
       "       'Fuel + Gas', 'Cogeneración', 'Residuos no renovables',\n",
       "       'Generación no renovable', 'Turbinación bombeo', 'Consumo bombeo',\n",
       "       'Saldo almacenamiento', 'Saldo I. internacionales',\n",
       "       'Demanda en b.c.', 'Entrega batería', 'Carga batería'],\n",
       "      dtype=object)"
      ]
     },
     "execution_count": 26,
     "metadata": {},
     "output_type": "execute_result"
    }
   ],
   "source": [
    "# Comprobamos los valores unicos que hay en las columnas para hacernos una idea general\n",
    "\n",
    "df['tipo'].unique()"
   ]
  },
  {
   "cell_type": "code",
   "execution_count": 28,
   "id": "871d1791-ba50-4b24-887e-1f99b96e6fd4",
   "metadata": {},
   "outputs": [
    {
     "data": {
      "text/plain": [
       "array(['Renovable', 'No-Renovable', 'Almacenamiento', 'Demanda'],\n",
       "      dtype=object)"
      ]
     },
     "execution_count": 28,
     "metadata": {},
     "output_type": "execute_result"
    }
   ],
   "source": [
    "df['energia'].unique()"
   ]
  },
  {
   "cell_type": "code",
   "execution_count": 30,
   "id": "871e9c09-6cf6-4a03-94cc-044bb9e4b632",
   "metadata": {},
   "outputs": [
    {
     "data": {
      "text/plain": [
       "region\n",
       "andalucia                  4.584612e+06\n",
       "aragon                     4.584612e+06\n",
       "baleares                   4.584612e+06\n",
       "canarias                   4.584612e+06\n",
       "cantabria                  4.584612e+06\n",
       "castilla la mancha         4.584612e+06\n",
       "castilla y leon            4.584612e+06\n",
       "cataluña                   4.584612e+06\n",
       "ceuta                      4.584612e+06\n",
       "comunidad de madrid        4.584612e+06\n",
       "comunidad de navarra       4.584612e+06\n",
       "comunidad de valenciana    4.584612e+06\n",
       "extremadura                4.584612e+06\n",
       "galicia                    4.584612e+06\n",
       "la rioja                   4.584612e+06\n",
       "melilla                    4.584612e+06\n",
       "pais vasco                 4.584612e+06\n",
       "peninsular                 4.584612e+06\n",
       "principado de asturias     4.584612e+06\n",
       "region de murcia           4.584612e+06\n",
       "Name: valor, dtype: float64"
      ]
     },
     "execution_count": 30,
     "metadata": {},
     "output_type": "execute_result"
    }
   ],
   "source": [
    "# Comprobamos los valores que hay en cada región\n",
    "\n",
    "df.groupby('region')['valor'].sum()"
   ]
  },
  {
   "cell_type": "code",
   "execution_count": 32,
   "id": "36e66fab-1172-4576-a193-bc27f04d59a0",
   "metadata": {},
   "outputs": [],
   "source": [
    "# La columna de las regiones parece que está repitiendo los datos, con lo que eliminamos los duplicados que haya en \n",
    "# el resto de columnas sin tener en cuenta esa\n",
    "\n",
    "df_sin_duplicados = df.drop_duplicates(subset=['fecha', 'valor', 'tipo', 'energia'])"
   ]
  },
  {
   "cell_type": "code",
   "execution_count": 34,
   "id": "8813b5d9-eee3-4796-b0b8-c994201d8d5f",
   "metadata": {},
   "outputs": [
    {
     "name": "stdout",
     "output_type": "stream",
     "text": [
      "Número de filas eliminadas: 943217, Número de filas restantes: 49643\n"
     ]
    }
   ],
   "source": [
    "# Vemos que se eliminan gran cantidad de filas porque efectivamente se estaban duplicando en cada region\n",
    "\n",
    "total_filas_original = len(df)\n",
    "total_filas_sin_duplicados = len(df_sin_duplicados)\n",
    "filas_eliminadas = total_filas_original - total_filas_sin_duplicados\n",
    "\n",
    "print(f'Número de filas eliminadas: {filas_eliminadas}, Número de filas restantes: {total_filas_sin_duplicados}')"
   ]
  },
  {
   "cell_type": "code",
   "execution_count": 6,
   "id": "e42d3cb5-8696-4248-a157-92cd5cd161e9",
   "metadata": {},
   "outputs": [
    {
     "ename": "NameError",
     "evalue": "name 'df_sin_duplicados' is not defined",
     "output_type": "error",
     "traceback": [
      "\u001b[1;31m---------------------------------------------------------------------------\u001b[0m",
      "\u001b[1;31mNameError\u001b[0m                                 Traceback (most recent call last)",
      "Cell \u001b[1;32mIn[6], line 2\u001b[0m\n\u001b[0;32m      1\u001b[0m \u001b[38;5;66;03m# Guardamos el csv limpio\u001b[39;00m\n\u001b[1;32m----> 2\u001b[0m df \u001b[38;5;241m=\u001b[39m df_sin_duplicados\u001b[38;5;241m.\u001b[39mto_csv(\u001b[38;5;124m'\u001b[39m\u001b[38;5;124mbalance-electrico-limpio.csv\u001b[39m\u001b[38;5;124m'\u001b[39m, index\u001b[38;5;241m=\u001b[39m\u001b[38;5;28;01mFalse\u001b[39;00m)\n",
      "\u001b[1;31mNameError\u001b[0m: name 'df_sin_duplicados' is not defined"
     ]
    }
   ],
   "source": [
    "# Guardamos el csv limpio\n",
    "df = df_sin_duplicados.to_csv('balance-electrico-limpio.csv', index=False)"
   ]
  },
  {
   "cell_type": "code",
   "execution_count": null,
   "id": "e3a14928-3e83-4998-8817-afeadcefa9c5",
   "metadata": {},
   "outputs": [],
   "source": []
  }
 ],
 "metadata": {
  "kernelspec": {
   "display_name": "Python [conda env:base] *",
   "language": "python",
   "name": "conda-base-py"
  },
  "language_info": {
   "codemirror_mode": {
    "name": "ipython",
    "version": 3
   },
   "file_extension": ".py",
   "mimetype": "text/x-python",
   "name": "python",
   "nbconvert_exporter": "python",
   "pygments_lexer": "ipython3",
   "version": "3.12.7"
  }
 },
 "nbformat": 4,
 "nbformat_minor": 5
}
