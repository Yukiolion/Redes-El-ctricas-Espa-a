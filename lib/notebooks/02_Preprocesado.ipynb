{
 "cells": [
  {
   "cell_type": "markdown",
   "id": "f015e3d2",
   "metadata": {},
   "source": [
    "EN ESTE NOTEBOOK VA TODO LO DE LA LIMPIEZA Y EL MODELADO DE LOS DATOS"
   ]
  }
 ],
 "metadata": {
  "kernelspec": {
   "display_name": "base",
   "language": "python",
   "name": "python3"
  },
  "language_info": {
   "name": "python",
   "version": "3.12.7"
  }
 },
 "nbformat": 4,
 "nbformat_minor": 5
}
