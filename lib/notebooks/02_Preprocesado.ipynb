{
 "cells": [
  {
   "cell_type": "markdown",
   "id": "f015e3d2",
   "metadata": {},
   "source": [
    "EN ESTE NOTEBOOK VA TODO LO DE LA LIMPIEZA Y EL MODELADO DE LOS DATOS"
   ]
  }
 ],
 "metadata": {
  "language_info": {
   "name": "python"
  }
 },
 "nbformat": 4,
 "nbformat_minor": 5
}
