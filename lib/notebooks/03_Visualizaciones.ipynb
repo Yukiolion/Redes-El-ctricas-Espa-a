{
 "cells": [
  {
   "cell_type": "markdown",
   "id": "22e92109",
   "metadata": {},
   "source": [
    "EN ESTE NOTEBOOK VAN LAS GRAFICAS Y LAS VISUALIZACIONES"
   ]
  }
 ],
 "metadata": {
  "language_info": {
   "name": "python"
  }
 },
 "nbformat": 4,
 "nbformat_minor": 5
}
