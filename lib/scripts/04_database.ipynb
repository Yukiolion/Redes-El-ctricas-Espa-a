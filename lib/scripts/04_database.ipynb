{
 "cells": [
  {
   "cell_type": "markdown",
   "id": "dfa0ae6d",
   "metadata": {},
   "source": [
    "CARGA DE TABLAS A LA BASE DE DATOS"
   ]
  },
  {
   "cell_type": "code",
   "execution_count": 9,
   "id": "62b6fc3f",
   "metadata": {},
   "outputs": [],
   "source": [
    "import pandas as pd\n",
    "import mysql.connector"
   ]
  },
  {
   "cell_type": "code",
   "execution_count": null,
   "id": "a51590d7",
   "metadata": {},
   "outputs": [],
   "source": [
    "def download_balance(conn):\n",
    "    cursor = conn.cursor()\n",
    "    ### BALANCE ###\n",
    "    query = \"SELECT * FROM balance ORDER BY fecha DESC\"\n",
    "    cursor.execute(query)\n",
    "    datos_balance = cursor.fetchall()\n",
    "    cursor.execute(query)\n",
    "    resultados = cursor.fetchall()\n",
    "\n",
    "    df = pd.DataFrame(resultados)\n",
    "    display(df)\n",
    "\n",
    "    return df"
   ]
  },
  {
   "cell_type": "code",
   "execution_count": null,
   "id": "32ecaba6",
   "metadata": {},
   "outputs": [],
   "source": [
    "def download_demanda(conn):\n",
    "    cursor = conn.cursor()\n",
    "    ### DEMANDA ###\n",
    "    query = \"SELECT * FROM demanda_evolucion ORDER BY fecha DESC\"\n",
    "    cursor.execute(query)\n",
    "    datos_demanda_evolucion = cursor.fetchall()\n",
    "\n",
    "    df = pd.DataFrame(datos_demanda_evolucion)\n",
    "    display(df)\n",
    "\n",
    "    return df"
   ]
  },
  {
   "cell_type": "code",
   "execution_count": 6,
   "id": "1c7c1447",
   "metadata": {},
   "outputs": [],
   "source": [
    "def download_ire(conn):\n",
    "    cursor = conn.cursor()\n",
    "    ### IRE ###\n",
    "    query = \"SELECT * FROM demanda_ire_general ORDER BY fecha DESC\"\n",
    "    cursor.execute(query)\n",
    "    datos_ire_general = cursor.fetchall()\n",
    "\n",
    "    df = pd.DataFrame(datos_ire_general)\n",
    "    display(df)\n",
    "\n",
    "    return df"
   ]
  },
  {
   "cell_type": "code",
   "execution_count": 7,
   "id": "2d8e4579",
   "metadata": {},
   "outputs": [],
   "source": [
    "def download_generacion(conn):\n",
    "    cursor = conn.cursor()\n",
    "    ### GENERACION ###\n",
    "    query = \"SELECT * FROM estructura_generacion ORDER BY fecha DESC\"\n",
    "    cursor.execute(query)\n",
    "    datos_estructura = cursor.fetchall()\n",
    "\n",
    "    df = pd.DataFrame(datos_estructura)\n",
    "    display(df)\n",
    "\n",
    "    return df"
   ]
  },
  {
   "cell_type": "code",
   "execution_count": 8,
   "id": "adc1bdda",
   "metadata": {},
   "outputs": [],
   "source": [
    "def download_intercambio(conn):\n",
    "    cursor = conn.Cursor()\n",
    "    ### INTERCAMBIO ###\n",
    "    query = \"SELECT * FROM fronteras ORDER BY fecha DESC\"\n",
    "    cursor.execute(query)\n",
    "    datos_fronteras = cursor.fetchall()\n",
    "\n",
    "    df = pd.DataFrame(datos_fronteras)\n",
    "    display(df)\n",
    "\n",
    "    return df"
   ]
  }
 ],
 "metadata": {
  "kernelspec": {
   "display_name": ".venv",
   "language": "python",
   "name": "python3"
  },
  "language_info": {
   "codemirror_mode": {
    "name": "ipython",
    "version": 3
   },
   "file_extension": ".py",
   "mimetype": "text/x-python",
   "name": "python",
   "nbconvert_exporter": "python",
   "pygments_lexer": "ipython3",
   "version": "3.12.7"
  }
 },
 "nbformat": 4,
 "nbformat_minor": 5
}
